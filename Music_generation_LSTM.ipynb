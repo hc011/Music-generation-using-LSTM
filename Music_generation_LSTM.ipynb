{
  "cells": [
    {
      "cell_type": "markdown",
      "metadata": {
        "id": "view-in-github",
        "colab_type": "text"
      },
      "source": [
        "<a href=\"https://colab.research.google.com/github/hc011/Music-generation-using-LSTM/blob/main/Music_generation_LSTM.ipynb\" target=\"_parent\"><img src=\"https://colab.research.google.com/assets/colab-badge.svg\" alt=\"Open In Colab\"/></a>"
      ]
    },
    {
      "cell_type": "code",
      "source": [
        "from google.colab import drive\n",
        "drive.mount('/content/drive')"
      ],
      "metadata": {
        "colab": {
          "base_uri": "https://localhost:8080/"
        },
        "id": "AyDrCQXnAXol",
        "outputId": "91a11019-2432-4154-834e-166a9baebf07"
      },
      "execution_count": null,
      "outputs": [
        {
          "output_type": "stream",
          "name": "stdout",
          "text": [
            "Mounted at /content/drive\n"
          ]
        }
      ]
    },
    {
      "cell_type": "code",
      "execution_count": null,
      "metadata": {
        "id": "vv6OfBDiuYhz"
      },
      "outputs": [],
      "source": [
        "#Importing Libraries\n",
        "import tensorflow \n",
        "import numpy as np \n",
        "import pandas as pd \n",
        "from collections import Counter #counter dictionary for key and count unique mapping\n",
        "import random\n",
        "import music21\n",
        "from music21 import *\n",
        "import matplotlib.pyplot as plt \n",
        "from sklearn.model_selection import train_test_split #splits training and test data\n",
        "from tensorflow.keras.models import Sequential #creation of layer stack\n",
        "from tensorflow.keras.layers import LSTM, Dense, Dropout \n",
        "import tensorflow.keras.backend as K \n",
        "from tensorflow.keras.optimizers import Adamax\n",
        "import matplotlib.pyplot as plt\n",
        "import matplotlib.patches as mpatches #add shapes in plots\n",
        "%matplotlib inline\n",
        "import sys\n",
        "import warnings\n",
        "import os\n",
        "warnings.filterwarnings(\"ignore\")\n",
        "warnings.simplefilter(\"ignore\")\n",
        "np.random.seed(42) #random number generator\n",
        "\n"
      ]
    },
    {
      "cell_type": "code",
      "execution_count": null,
      "metadata": {
        "id": "ROdutcBky-3e",
        "colab": {
          "base_uri": "https://localhost:8080/",
          "height": 234
        },
        "outputId": "49a12a5f-4281-4fba-a898-0439012e44bd"
      },
      "outputs": [
        {
          "output_type": "error",
          "ename": "NotADirectoryError",
          "evalue": "ignored",
          "traceback": [
            "\u001b[0;31m---------------------------------------------------------------------------\u001b[0m",
            "\u001b[0;31mNotADirectoryError\u001b[0m                        Traceback (most recent call last)",
            "\u001b[0;32m<ipython-input-5-3ba5ffffd5d4>\u001b[0m in \u001b[0;36m<module>\u001b[0;34m()\u001b[0m\n\u001b[1;32m      2\u001b[0m \u001b[0mfilepath\u001b[0m\u001b[0;34m=\u001b[0m\u001b[0;34m\"/content/drive/MyDrive/midisparsed.pickle\"\u001b[0m\u001b[0;34m\u001b[0m\u001b[0;34m\u001b[0m\u001b[0m\n\u001b[1;32m      3\u001b[0m \u001b[0mmidis\u001b[0m\u001b[0;34m=\u001b[0m\u001b[0;34m[\u001b[0m\u001b[0;34m]\u001b[0m \u001b[0;31m#list of scores of individual training midi files\u001b[0m\u001b[0;34m\u001b[0m\u001b[0;34m\u001b[0m\u001b[0m\n\u001b[0;32m----> 4\u001b[0;31m \u001b[0;32mfor\u001b[0m \u001b[0mi\u001b[0m \u001b[0;32min\u001b[0m \u001b[0mos\u001b[0m\u001b[0;34m.\u001b[0m\u001b[0mlistdir\u001b[0m\u001b[0;34m(\u001b[0m\u001b[0mfilepath\u001b[0m\u001b[0;34m)\u001b[0m\u001b[0;34m:\u001b[0m\u001b[0;34m\u001b[0m\u001b[0;34m\u001b[0m\u001b[0m\n\u001b[0m\u001b[1;32m      5\u001b[0m   \u001b[0;32mif\u001b[0m \u001b[0mi\u001b[0m\u001b[0;34m.\u001b[0m\u001b[0mendswith\u001b[0m\u001b[0;34m(\u001b[0m\u001b[0;34m\".mid\"\u001b[0m\u001b[0;34m)\u001b[0m\u001b[0;34m:\u001b[0m\u001b[0;34m\u001b[0m\u001b[0;34m\u001b[0m\u001b[0m\n\u001b[1;32m      6\u001b[0m     \u001b[0msingle_midi_location\u001b[0m\u001b[0;34m=\u001b[0m\u001b[0mfilepath\u001b[0m\u001b[0;34m+\u001b[0m\u001b[0mi\u001b[0m\u001b[0;34m\u001b[0m\u001b[0;34m\u001b[0m\u001b[0m\n",
            "\u001b[0;31mNotADirectoryError\u001b[0m: [Errno 20] Not a directory: '/content/drive/MyDrive/midisparsed.pickle'"
          ]
        }
      ],
      "source": [
        "#load and parse data\n",
        "filepath=\"/content/drive/MyDrive/midi/beethoven/\"\n",
        "midis=[] #list of scores of individual training midi files\n",
        "for i in os.listdir(filepath):\n",
        "  if i.endswith(\".mid\"):\n",
        "    single_midi_location=filepath+i\n",
        "    midi=converter.parse(single_midi_location) #musical score is returned\n",
        "    midis.append(midi)"
      ]
    },
    {
      "cell_type": "code",
      "execution_count": null,
      "metadata": {
        "id": "CUQ7AvY35S8i"
      },
      "outputs": [],
      "source": [
        "import pickle\n",
        "with open('/content/drive/MyDrive/midisparsed.pickle','rb') as g:\n",
        "  data=pickle.load(g)"
      ]
    },
    {
      "cell_type": "code",
      "execution_count": null,
      "metadata": {
        "colab": {
          "base_uri": "https://localhost:8080/"
        },
        "id": "oJ3XuqCn0wdr",
        "outputId": "47587913-6f1a-446e-e0b0-84a28fab4fe2"
      },
      "outputs": [
        {
          "name": "stdout",
          "output_type": "stream",
          "text": [
            "[<music21.stream.Score 140010955892112>, <music21.stream.Score 140010940608848>, <music21.stream.Score 140010945903568>, <music21.stream.Score 140010926032336>, <music21.stream.Score 140010921890192>, <music21.stream.Score 140010921759184>, <music21.stream.Score 140010910428304>, <music21.stream.Score 140010889184976>, <music21.stream.Score 140010884977040>, <music21.stream.Score 140010884139152>, <music21.stream.Score 140010870914384>, <music21.stream.Score 140010873595536>, <music21.stream.Score 140010925896592>, <music21.stream.Score 140010876717520>, <music21.stream.Score 140010821679248>, <music21.stream.Score 140010874864592>, <music21.stream.Score 140010804232656>, <music21.stream.Score 140010787740688>, <music21.stream.Score 140010871529040>, <music21.stream.Score 140010690978512>, <music21.stream.Score 140010779286224>, <music21.stream.Score 140010705429520>, <music21.stream.Score 140010651054800>, <music21.stream.Score 140010763365200>, <music21.stream.Score 140010751062416>, <music21.stream.Score 140010673214800>, <music21.stream.Score 140010603003280>, <music21.stream.Score 140010641387408>, <music21.stream.Score 140010602903760>, <music21.stream.Score 140010569746960>, <music21.stream.Score 140010540015184>, <music21.stream.Score 140010703939920>, <music21.stream.Score 140010468027216>, <music21.stream.Score 140010521113232>, <music21.stream.Score 140010456171792>, <music21.stream.Score 140010435119504>, <music21.stream.Score 140010403152656>, <music21.stream.Score 140010491669648>, <music21.stream.Score 140010593439504>, <music21.stream.Score 140010551977808>, <music21.stream.Score 140010374556048>, <music21.stream.Score 140010381019088>, <music21.stream.Score 140010384071888>, <music21.stream.Score 140010328207952>, <music21.stream.Score 140010413653904>]\n"
          ]
        }
      ],
      "source": [
        "print(data)"
      ]
    },
    {
      "cell_type": "code",
      "execution_count": null,
      "metadata": {
        "colab": {
          "base_uri": "https://localhost:8080/",
          "height": 346
        },
        "id": "4q5X6LE_0tmr",
        "outputId": "90e92fc7-2831-43a8-f0c9-b6d84bb14726"
      },
      "outputs": [
        {
          "output_type": "error",
          "ename": "KeyboardInterrupt",
          "evalue": "ignored",
          "traceback": [
            "\u001b[0;31m---------------------------------------------------------------------------\u001b[0m",
            "\u001b[0;31mKeyboardInterrupt\u001b[0m                         Traceback (most recent call last)",
            "\u001b[0;32m<ipython-input-7-f8e98c1e3f0b>\u001b[0m in \u001b[0;36m<module>\u001b[0;34m()\u001b[0m\n\u001b[1;32m     16\u001b[0m     \u001b[0;32mreturn\u001b[0m \u001b[0mnotes\u001b[0m\u001b[0;34m\u001b[0m\u001b[0;34m\u001b[0m\u001b[0m\n\u001b[1;32m     17\u001b[0m \u001b[0;34m\u001b[0m\u001b[0m\n\u001b[0;32m---> 18\u001b[0;31m \u001b[0mcorpus\u001b[0m\u001b[0;34m=\u001b[0m\u001b[0mextract_notes\u001b[0m\u001b[0;34m(\u001b[0m\u001b[0mdata\u001b[0m\u001b[0;34m)\u001b[0m\u001b[0;34m\u001b[0m\u001b[0;34m\u001b[0m\u001b[0m\n\u001b[0m",
            "\u001b[0;32m<ipython-input-7-f8e98c1e3f0b>\u001b[0m in \u001b[0;36mextract_notes\u001b[0;34m(file)\u001b[0m\n\u001b[1;32m      9\u001b[0m           \u001b[0;32mfor\u001b[0m \u001b[0mpart\u001b[0m \u001b[0;32min\u001b[0m \u001b[0msongs\u001b[0m\u001b[0;34m.\u001b[0m\u001b[0mparts\u001b[0m\u001b[0;34m:\u001b[0m\u001b[0;34m\u001b[0m\u001b[0;34m\u001b[0m\u001b[0m\n\u001b[1;32m     10\u001b[0m               \u001b[0mpick\u001b[0m \u001b[0;34m=\u001b[0m \u001b[0mpart\u001b[0m\u001b[0;34m.\u001b[0m\u001b[0mrecurse\u001b[0m\u001b[0;34m(\u001b[0m\u001b[0;34m)\u001b[0m \u001b[0;31m#single element(note or chord) in score\u001b[0m\u001b[0;34m\u001b[0m\u001b[0;34m\u001b[0m\u001b[0m\n\u001b[0;32m---> 11\u001b[0;31m               \u001b[0;32mfor\u001b[0m \u001b[0melement\u001b[0m \u001b[0;32min\u001b[0m \u001b[0mpick\u001b[0m\u001b[0;34m:\u001b[0m\u001b[0;34m\u001b[0m\u001b[0;34m\u001b[0m\u001b[0m\n\u001b[0m\u001b[1;32m     12\u001b[0m                   \u001b[0;32mif\u001b[0m \u001b[0misinstance\u001b[0m\u001b[0;34m(\u001b[0m\u001b[0melement\u001b[0m\u001b[0;34m,\u001b[0m \u001b[0mnote\u001b[0m\u001b[0;34m.\u001b[0m\u001b[0mNote\u001b[0m\u001b[0;34m)\u001b[0m\u001b[0;34m:\u001b[0m \u001b[0;31m#check if it is note\u001b[0m\u001b[0;34m\u001b[0m\u001b[0;34m\u001b[0m\u001b[0m\n\u001b[1;32m     13\u001b[0m                       \u001b[0mnotes\u001b[0m\u001b[0;34m.\u001b[0m\u001b[0mappend\u001b[0m\u001b[0;34m(\u001b[0m\u001b[0mstr\u001b[0m\u001b[0;34m(\u001b[0m\u001b[0melement\u001b[0m\u001b[0;34m.\u001b[0m\u001b[0mpitch\u001b[0m\u001b[0;34m)\u001b[0m\u001b[0;34m)\u001b[0m\u001b[0;34m\u001b[0m\u001b[0;34m\u001b[0m\u001b[0m\n",
            "\u001b[0;32m/usr/local/lib/python3.7/dist-packages/music21/stream/iterator.py\u001b[0m in \u001b[0;36m__next__\u001b[0;34m(self)\u001b[0m\n\u001b[1;32m   1427\u001b[0m \u001b[0;34m\u001b[0m\u001b[0m\n\u001b[1;32m   1428\u001b[0m             \u001b[0;32mif\u001b[0m \u001b[0mself\u001b[0m\u001b[0;34m.\u001b[0m\u001b[0mrestoreActiveSites\u001b[0m \u001b[0;32mis\u001b[0m \u001b[0;32mTrue\u001b[0m\u001b[0;34m:\u001b[0m\u001b[0;34m\u001b[0m\u001b[0;34m\u001b[0m\u001b[0m\n\u001b[0;32m-> 1429\u001b[0;31m                 \u001b[0me\u001b[0m\u001b[0;34m.\u001b[0m\u001b[0mactiveSite\u001b[0m \u001b[0;34m=\u001b[0m \u001b[0mself\u001b[0m\u001b[0;34m.\u001b[0m\u001b[0msrcStream\u001b[0m\u001b[0;34m\u001b[0m\u001b[0;34m\u001b[0m\u001b[0m\n\u001b[0m\u001b[1;32m   1430\u001b[0m \u001b[0;34m\u001b[0m\u001b[0m\n\u001b[1;32m   1431\u001b[0m \u001b[0;34m\u001b[0m\u001b[0m\n",
            "\u001b[0;32m/usr/local/lib/python3.7/dist-packages/music21/base.py\u001b[0m in \u001b[0;36m_setActiveSite\u001b[0;34m(self, site)\u001b[0m\n\u001b[1;32m   2028\u001b[0m         \u001b[0;32mif\u001b[0m \u001b[0msite\u001b[0m \u001b[0;32mis\u001b[0m \u001b[0;32mnot\u001b[0m \u001b[0;32mNone\u001b[0m\u001b[0;34m:\u001b[0m\u001b[0;34m\u001b[0m\u001b[0;34m\u001b[0m\u001b[0m\n\u001b[1;32m   2029\u001b[0m             \u001b[0;32mtry\u001b[0m\u001b[0;34m:\u001b[0m\u001b[0;34m\u001b[0m\u001b[0;34m\u001b[0m\u001b[0m\n\u001b[0;32m-> 2030\u001b[0;31m                 \u001b[0mstoredOffset\u001b[0m \u001b[0;34m=\u001b[0m \u001b[0msite\u001b[0m\u001b[0;34m.\u001b[0m\u001b[0melementOffset\u001b[0m\u001b[0;34m(\u001b[0m\u001b[0mself\u001b[0m\u001b[0;34m)\u001b[0m\u001b[0;34m\u001b[0m\u001b[0;34m\u001b[0m\u001b[0m\n\u001b[0m\u001b[1;32m   2031\u001b[0m             \u001b[0;32mexcept\u001b[0m \u001b[0mSitesException\u001b[0m\u001b[0;34m:\u001b[0m\u001b[0;34m\u001b[0m\u001b[0;34m\u001b[0m\u001b[0m\n\u001b[1;32m   2032\u001b[0m                 raise SitesException('activeSite cannot be set for ' +\n",
            "\u001b[0;32m/usr/local/lib/python3.7/dist-packages/music21/stream/__init__.py\u001b[0m in \u001b[0;36melementOffset\u001b[0;34m(self, element, stringReturns)\u001b[0m\n\u001b[1;32m   1528\u001b[0m             \u001b[0melement\u001b[0m\u001b[0;34m.\u001b[0m\u001b[0mactiveSite\u001b[0m \u001b[0;34m=\u001b[0m \u001b[0mself\u001b[0m\u001b[0;34m\u001b[0m\u001b[0;34m\u001b[0m\u001b[0m\n\u001b[1;32m   1529\u001b[0m \u001b[0;34m\u001b[0m\u001b[0m\n\u001b[0;32m-> 1530\u001b[0;31m     \u001b[0;32mdef\u001b[0m \u001b[0melementOffset\u001b[0m\u001b[0;34m(\u001b[0m\u001b[0mself\u001b[0m\u001b[0;34m,\u001b[0m \u001b[0melement\u001b[0m\u001b[0;34m,\u001b[0m \u001b[0mstringReturns\u001b[0m\u001b[0;34m=\u001b[0m\u001b[0;32mFalse\u001b[0m\u001b[0;34m)\u001b[0m\u001b[0;34m:\u001b[0m\u001b[0;34m\u001b[0m\u001b[0;34m\u001b[0m\u001b[0m\n\u001b[0m\u001b[1;32m   1531\u001b[0m         '''\n\u001b[1;32m   1532\u001b[0m         \u001b[0mReturn\u001b[0m \u001b[0mthe\u001b[0m \u001b[0moffset\u001b[0m \u001b[0;32mas\u001b[0m \u001b[0man\u001b[0m \u001b[0mopFrac\u001b[0m \u001b[0;34m(\u001b[0m\u001b[0mfloat\u001b[0m \u001b[0;32mor\u001b[0m \u001b[0mFraction\u001b[0m\u001b[0;34m)\u001b[0m \u001b[0;32mfrom\u001b[0m \u001b[0mthe\u001b[0m \u001b[0moffsetMap\u001b[0m\u001b[0;34m.\u001b[0m\u001b[0;34m\u001b[0m\u001b[0;34m\u001b[0m\u001b[0m\n",
            "\u001b[0;31mKeyboardInterrupt\u001b[0m: "
          ]
        }
      ],
      "source": [
        "#get the notes from the score\n",
        "       \n",
        "def extract_notes(file):\n",
        "    notes = []\n",
        "    pick=None\n",
        "    for j in file:\n",
        "        songs = instrument.partitionByInstrument(j)#\n",
        "        if songs is not None:\n",
        "          for part in songs.parts:\n",
        "              pick = part.recurse() #single element(note or chord) in score\n",
        "              for element in pick:\n",
        "                  if isinstance(element, note.Note): #check if it is note\n",
        "                      notes.append(str(element.pitch))\n",
        "                  elif isinstance(element, chord.Chord): #check if it is chord\n",
        "                      notes.append(\".\".join(str(n) for n in element.normalOrder)) #divides the chord in notes and appends each in notes\n",
        "    return notes\n",
        "\n",
        "corpus=extract_notes(data)"
      ]
    },
    {
      "cell_type": "code",
      "execution_count": null,
      "metadata": {
        "id": "ar8k8cngXmvA"
      },
      "outputs": [],
      "source": [
        "import pickle\n",
        "with open('/content/drive/MyDrive/midicorpus.pickle','rb') as i:\n",
        "  corpus=pickle.load(i)"
      ]
    },
    {
      "cell_type": "code",
      "source": [
        "print(len(corpus))"
      ],
      "metadata": {
        "id": "lVHgtBvVoNa_",
        "colab": {
          "base_uri": "https://localhost:8080/"
        },
        "outputId": "bce5a4c2-66a0-46c9-ff17-988fd9e141ef"
      },
      "execution_count": null,
      "outputs": [
        {
          "output_type": "stream",
          "name": "stdout",
          "text": [
            "105463\n"
          ]
        }
      ]
    },
    {
      "cell_type": "code",
      "source": [
        "print(corpus[0:40])"
      ],
      "metadata": {
        "colab": {
          "base_uri": "https://localhost:8080/"
        },
        "id": "teOBMhGJpCrU",
        "outputId": "8a91bc99-fc8f-4938-cd4d-d4d62e0fce0d"
      },
      "execution_count": null,
      "outputs": [
        {
          "output_type": "stream",
          "name": "stdout",
          "text": [
            "['7.11', '9.0', '11.2', 'G2', '10.1', '11.2', 'B2', '10.1', '11.2', 'D3', '10.1', '11.2', 'G3', 'G2', '0.4', '8.11', '9.0', 'D3', 'D2', '11.2', '6.9', '7', 'B4', 'G1', '7.11', '9.2', '7.11', 'G2', '6.10', '7.11', 'B2', '6.10', '7.11', 'E-3', '6.10', '7.11', 'E3', 'F#3', '6.9', 'G3']\n"
          ]
        }
      ]
    },
    {
      "cell_type": "code",
      "execution_count": null,
      "metadata": {
        "id": "dhVB-1ZAMxXH"
      },
      "outputs": [],
      "source": [
        "#To show musical score\n",
        "def chords_n_notes(Snippet):\n",
        "    Melody = []\n",
        "    offset = 2 #Incremental\n",
        "    for i in Snippet:\n",
        "        #If it is chord\n",
        "        if (\".\" in i or i.isdigit()):\n",
        "            chord_notes = i.split(\".\") #Seperating the notes in chord\n",
        "            notes = [] \n",
        "            for j in chord_notes:\n",
        "                inst_note=int(j)\n",
        "                note_snip = note.Note(inst_note)            \n",
        "                notes.append(note_snip)\n",
        "                chord_snip = chord.Chord(notes)\n",
        "                chord_snip.offset = offset\n",
        "                Melody.append(chord_snip)\n",
        "        # pattern is a note\n",
        "        else: \n",
        "            note_snip = note.Note(i)\n",
        "            note_snip.offset = offset\n",
        "            Melody.append(note_snip)\n",
        "        # increase offset each iteration so that notes do not stack\n",
        "        offset += 1\n",
        "    Melody_midi = stream.Stream(Melody)   \n",
        "    return Melody_midi\n",
        "Melody_Snippet = chords_n_notes(corpus[0:100])"
      ]
    },
    {
      "cell_type": "code",
      "execution_count": null,
      "metadata": {
        "colab": {
          "base_uri": "https://localhost:8080/"
        },
        "id": "B6i_bozSIrGE",
        "outputId": "d51e591f-2c9b-4474-e859-851af120a346"
      },
      "outputs": [
        {
          "output_type": "stream",
          "name": "stdout",
          "text": [
            "Total unique notes in the Corpus: 300\n",
            "Average recurrenc for a note in Corpus: 351.54333333333335\n",
            "Most frequent note in Corpus appeared: 2832 times\n",
            "Least frequent note in Corpus appeared: 1 time\n"
          ]
        }
      ],
      "source": [
        "count_num=Counter(corpus)\n",
        "Notes = list(count_num.keys())\n",
        "Recurrence = list(count_num.values())\n",
        "#Average recurrenc for a note in Corpus\n",
        "def Average(lst):\n",
        "    return sum(lst) / len(lst)\n",
        "print(\"Total unique notes in the Corpus:\", len(count_num))\n",
        "print(\"Average recurrenc for a note in Corpus:\", Average(Recurrence))\n",
        "print(\"Most frequent note in Corpus appeared:\", max(Recurrence), \"times\")\n",
        "print(\"Least frequent note in Corpus appeared:\", min(Recurrence), \"time\")"
      ]
    },
    {
      "cell_type": "code",
      "execution_count": null,
      "metadata": {
        "colab": {
          "base_uri": "https://localhost:8080/",
          "height": 403
        },
        "id": "mAQ33MSTBWoU",
        "outputId": "b6fbe0b7-ef6c-4593-c04e-35c00c95fa7f"
      },
      "outputs": [
        {
          "output_type": "display_data",
          "data": {
            "image/png": "[encoded data removed]",
            "text/plain": [
              "<Figure size 1296x432 with 1 Axes>"
            ]
          },
          "metadata": {
            "image/png": {
              "width": 1058,
              "height": 386
            }
          }
        }
      ],
      "source": [
        "plt.figure(figsize=(18,6),facecolor=\"#97BABC\")\n",
        "bins = np.arange(0,(max(Recurrence)), 50) \n",
        "plt.hist(Recurrence, bins=bins, color=\"#98FFCB\")\n",
        "plt.axvline(x=100,color=\"#DBACC1\")\n",
        "plt.title(\"Frequency Distribution Of Notes In The Corpus\")\n",
        "plt.xlabel(\"Frequency Of Chords in Corpus\")\n",
        "plt.ylabel(\"Number Of Chords\")\n",
        "plt.show()"
      ]
    },
    {
      "cell_type": "code",
      "execution_count": null,
      "metadata": {
        "colab": {
          "base_uri": "https://localhost:8080/"
        },
        "id": "Pst0pKm0BaJS",
        "outputId": "a7628c24-1874-4b5b-e61e-e3adf9f10a66"
      },
      "outputs": [
        {
          "output_type": "stream",
          "name": "stdout",
          "text": [
            "Total number of notes that occur less than 100 times: 176\n"
          ]
        }
      ],
      "source": [
        "rare_note = []\n",
        "for index, (key, value) in enumerate(count_num.items()):\n",
        "    if value < 100:\n",
        "        m =  key\n",
        "        rare_note.append(m)\n",
        "        \n",
        "print(\"Total number of notes that occur less than 100 times:\", len(rare_note))"
      ]
    },
    {
      "cell_type": "code",
      "execution_count": null,
      "metadata": {
        "colab": {
          "base_uri": "https://localhost:8080/"
        },
        "id": "7DhaKgazHTM9",
        "outputId": "162e1200-dbda-4869-bbbb-25c7006f83bc"
      },
      "outputs": [
        {
          "output_type": "stream",
          "name": "stdout",
          "text": [
            "Total number of characters: 105463\n",
            "Number of unique characters: 300\n"
          ]
        }
      ],
      "source": [
        "# Storing all the unique characters present in my corpus to build a mapping dic. \n",
        "symb = sorted(list(set(corpus)))\n",
        "\n",
        "L_corpus = len(corpus) #length of corpus\n",
        "L_symb = len(symb) #length of total unique characters\n",
        "\n",
        "#Building dictionary to access the vocabulary from indices and vice versa\n",
        "mapping = dict((c, i) for i, c in enumerate(symb))\n",
        "reverse_mapping = dict((i, c) for i, c in enumerate(symb))\n",
        "\n",
        "print(\"Total number of characters:\", L_corpus)\n",
        "print(\"Number of unique characters:\", L_symb)"
      ]
    },
    {
      "cell_type": "code",
      "execution_count": null,
      "metadata": {
        "colab": {
          "base_uri": "https://localhost:8080/"
        },
        "id": "6SCvxanI7J7-",
        "outputId": "6fb1e688-edbe-4c8e-ebbf-98ee5a76d12a"
      },
      "outputs": [
        {
          "output_type": "stream",
          "name": "stdout",
          "text": [
            "{'0': 0, '0.1': 1, '0.1.3': 2, '0.1.3.6.8': 3, '0.2': 4, '0.2.5': 5, '0.2.5.7': 6, '0.2.5.8': 7, '0.2.6': 8, '0.2.6.7': 9, '0.3': 10, '0.3.5': 11, '0.3.5.8': 12, '0.3.6': 13, '0.3.6.8': 14, '0.3.6.9': 15, '0.3.7': 16, '0.4': 17, '0.4.5': 18, '0.4.6': 19, '0.4.7': 20, '0.4.8': 21, '0.5': 22, '0.6': 23, '1': 24, '1.2': 25, '1.2.5.8': 26, '1.3': 27, '1.3.4.7': 28, '1.3.5': 29, '1.3.6': 30, '1.3.6.8': 31, '1.3.6.9': 32, '1.3.7': 33, '1.3.7.8': 34, '1.3.8': 35, '1.4': 36, '1.4.6': 37, '1.4.7': 38, '1.4.7.10': 39, '1.4.7.9': 40, '1.4.8': 41, '1.5': 42, '1.5.7': 43, '1.5.8': 44, '1.6': 45, '1.7': 46, '10': 47, '10.0': 48, '10.0.3': 49, '10.0.3.6': 50, '10.0.4': 51, '10.0.5': 52, '10.1': 53, '10.1.3': 54, '10.1.3.6': 55, '10.1.4': 56, '10.1.4.6': 57, '10.1.5': 58, '10.11.3.6': 59, '10.2': 60, '10.2.3': 61, '10.2.3.5': 62, '10.2.5': 63, '10.3': 64, '11': 65, '11.0': 66, '11.0.2': 67, '11.0.2.5.7': 68, '11.1': 69, '11.1.2': 70, '11.1.5': 71, '11.2': 72, '11.2.3': 73, '11.2.4': 74, '11.2.4.6': 75, '11.2.5': 76, '11.2.5.7': 77, '11.2.6': 78, '11.3': 79, '11.3.6': 80, '11.4': 81, '2': 82, '2.3': 83, '2.3.5.8.10': 84, '2.3.7': 85, '2.4': 86, '2.4.7.10': 87, '2.4.8': 88, '2.5': 89, '2.5.7': 90, '2.5.7.10': 91, '2.5.8': 92, '2.5.8.10': 93, '2.5.8.11': 94, '2.5.9': 95, '2.6': 96, '2.6.10': 97, '2.6.7': 98, '2.6.8': 99, '2.6.9': 100, '2.7': 101, '2.7.8': 102, '2.8': 103, '3': 104, '3.4': 105, '3.4.7.10': 106, '3.5': 107, '3.5.8': 108, '3.5.8.10': 109, '3.5.8.11': 110, '3.5.9': 111, '3.6': 112, '3.6.10': 113, '3.6.8': 114, '3.6.9': 115, '3.6.9.11': 116, '3.7': 117, '3.7.10': 118, '3.7.10.11': 119, '3.7.11': 120, '3.8': 121, '3.9': 122, '4': 123, '4.10': 124, '4.5': 125, '4.5.7.10.0': 126, '4.6': 127, '4.6.10': 128, '4.6.9.0': 129, '4.7': 130, '4.7.10': 131, '4.7.10.0': 132, '4.7.11': 133, '4.7.9': 134, '4.8': 135, '4.8.11': 136, '4.9': 137, '5': 138, '5.10': 139, '5.11': 140, '5.6': 141, '5.7': 142, '5.7.0': 143, '5.7.10': 144, '5.7.10.0': 145, '5.7.11': 146, '5.7.8.0': 147, '5.8': 148, '5.8.0': 149, '5.8.10': 150, '5.8.11': 151, '5.8.11.1': 152, '5.9': 153, '5.9.0': 154, '5.9.11': 155, '6': 156, '6.10': 157, '6.10.1': 158, '6.11': 159, '6.7': 160, '6.8': 161, '6.8.0': 162, '6.9': 163, '6.9.0': 164, '6.9.0.1': 165, '6.9.0.2': 166, '6.9.1': 167, '6.9.11': 168, '7': 169, '7.0': 170, '7.10': 171, '7.10.0': 172, '7.10.0.3': 173, '7.10.1': 174, '7.10.1.3': 175, '7.10.2': 176, '7.11': 177, '7.11.2': 178, '7.8': 179, '7.8.0': 180, '7.8.10.1.3': 181, '7.9': 182, '7.9.0.3': 183, '7.9.1': 184, '8': 185, '8.0': 186, '8.0.1': 187, '8.0.3': 188, '8.1': 189, '8.10': 190, '8.10.0.3': 191, '8.10.1': 192, '8.10.1.4': 193, '8.10.11': 194, '8.10.2': 195, '8.10.3': 196, '8.11': 197, '8.11.1': 198, '8.11.1.4': 199, '8.11.2': 200, '8.11.2.4': 201, '8.11.3': 202, '8.9': 203, '9': 204, '9.0': 205, '9.0.2': 206, '9.0.2.5': 207, '9.0.3': 208, '9.0.3.5': 209, '9.0.4': 210, '9.1': 211, '9.1.3': 212, '9.1.4': 213, '9.10': 214, '9.10.0.3': 215, '9.10.0.3.5': 216, '9.11': 217, '9.11.1': 218, '9.11.2.4': 219, '9.11.2.5': 220, '9.11.3': 221, '9.11.4': 222, '9.2': 223, 'A1': 224, 'A2': 225, 'A3': 226, 'A4': 227, 'A5': 228, 'A6': 229, 'B-1': 230, 'B-2': 231, 'B-3': 232, 'B-4': 233, 'B-5': 234, 'B-6': 235, 'B1': 236, 'B2': 237, 'B3': 238, 'B4': 239, 'B5': 240, 'B6': 241, 'C#2': 242, 'C#3': 243, 'C#4': 244, 'C#5': 245, 'C#6': 246, 'C#7': 247, 'C1': 248, 'C2': 249, 'C3': 250, 'C4': 251, 'C5': 252, 'C6': 253, 'C7': 254, 'D2': 255, 'D3': 256, 'D4': 257, 'D5': 258, 'D6': 259, 'D7': 260, 'E-1': 261, 'E-2': 262, 'E-3': 263, 'E-4': 264, 'E-5': 265, 'E-6': 266, 'E-7': 267, 'E1': 268, 'E2': 269, 'E3': 270, 'E4': 271, 'E5': 272, 'E6': 273, 'E7': 274, 'F#1': 275, 'F#2': 276, 'F#3': 277, 'F#4': 278, 'F#5': 279, 'F#6': 280, 'F1': 281, 'F2': 282, 'F3': 283, 'F4': 284, 'F5': 285, 'F6': 286, 'F7': 287, 'G#1': 288, 'G#2': 289, 'G#3': 290, 'G#4': 291, 'G#5': 292, 'G#6': 293, 'G1': 294, 'G2': 295, 'G3': 296, 'G4': 297, 'G5': 298, 'G6': 299}\n",
            "{0: '0', 1: '0.1', 2: '0.1.3', 3: '0.1.3.6.8', 4: '0.2', 5: '0.2.5', 6: '0.2.5.7', 7: '0.2.5.8', 8: '0.2.6', 9: '0.2.6.7', 10: '0.3', 11: '0.3.5', 12: '0.3.5.8', 13: '0.3.6', 14: '0.3.6.8', 15: '0.3.6.9', 16: '0.3.7', 17: '0.4', 18: '0.4.5', 19: '0.4.6', 20: '0.4.7', 21: '0.4.8', 22: '0.5', 23: '0.6', 24: '1', 25: '1.2', 26: '1.2.5.8', 27: '1.3', 28: '1.3.4.7', 29: '1.3.5', 30: '1.3.6', 31: '1.3.6.8', 32: '1.3.6.9', 33: '1.3.7', 34: '1.3.7.8', 35: '1.3.8', 36: '1.4', 37: '1.4.6', 38: '1.4.7', 39: '1.4.7.10', 40: '1.4.7.9', 41: '1.4.8', 42: '1.5', 43: '1.5.7', 44: '1.5.8', 45: '1.6', 46: '1.7', 47: '10', 48: '10.0', 49: '10.0.3', 50: '10.0.3.6', 51: '10.0.4', 52: '10.0.5', 53: '10.1', 54: '10.1.3', 55: '10.1.3.6', 56: '10.1.4', 57: '10.1.4.6', 58: '10.1.5', 59: '10.11.3.6', 60: '10.2', 61: '10.2.3', 62: '10.2.3.5', 63: '10.2.5', 64: '10.3', 65: '11', 66: '11.0', 67: '11.0.2', 68: '11.0.2.5.7', 69: '11.1', 70: '11.1.2', 71: '11.1.5', 72: '11.2', 73: '11.2.3', 74: '11.2.4', 75: '11.2.4.6', 76: '11.2.5', 77: '11.2.5.7', 78: '11.2.6', 79: '11.3', 80: '11.3.6', 81: '11.4', 82: '2', 83: '2.3', 84: '2.3.5.8.10', 85: '2.3.7', 86: '2.4', 87: '2.4.7.10', 88: '2.4.8', 89: '2.5', 90: '2.5.7', 91: '2.5.7.10', 92: '2.5.8', 93: '2.5.8.10', 94: '2.5.8.11', 95: '2.5.9', 96: '2.6', 97: '2.6.10', 98: '2.6.7', 99: '2.6.8', 100: '2.6.9', 101: '2.7', 102: '2.7.8', 103: '2.8', 104: '3', 105: '3.4', 106: '3.4.7.10', 107: '3.5', 108: '3.5.8', 109: '3.5.8.10', 110: '3.5.8.11', 111: '3.5.9', 112: '3.6', 113: '3.6.10', 114: '3.6.8', 115: '3.6.9', 116: '3.6.9.11', 117: '3.7', 118: '3.7.10', 119: '3.7.10.11', 120: '3.7.11', 121: '3.8', 122: '3.9', 123: '4', 124: '4.10', 125: '4.5', 126: '4.5.7.10.0', 127: '4.6', 128: '4.6.10', 129: '4.6.9.0', 130: '4.7', 131: '4.7.10', 132: '4.7.10.0', 133: '4.7.11', 134: '4.7.9', 135: '4.8', 136: '4.8.11', 137: '4.9', 138: '5', 139: '5.10', 140: '5.11', 141: '5.6', 142: '5.7', 143: '5.7.0', 144: '5.7.10', 145: '5.7.10.0', 146: '5.7.11', 147: '5.7.8.0', 148: '5.8', 149: '5.8.0', 150: '5.8.10', 151: '5.8.11', 152: '5.8.11.1', 153: '5.9', 154: '5.9.0', 155: '5.9.11', 156: '6', 157: '6.10', 158: '6.10.1', 159: '6.11', 160: '6.7', 161: '6.8', 162: '6.8.0', 163: '6.9', 164: '6.9.0', 165: '6.9.0.1', 166: '6.9.0.2', 167: '6.9.1', 168: '6.9.11', 169: '7', 170: '7.0', 171: '7.10', 172: '7.10.0', 173: '7.10.0.3', 174: '7.10.1', 175: '7.10.1.3', 176: '7.10.2', 177: '7.11', 178: '7.11.2', 179: '7.8', 180: '7.8.0', 181: '7.8.10.1.3', 182: '7.9', 183: '7.9.0.3', 184: '7.9.1', 185: '8', 186: '8.0', 187: '8.0.1', 188: '8.0.3', 189: '8.1', 190: '8.10', 191: '8.10.0.3', 192: '8.10.1', 193: '8.10.1.4', 194: '8.10.11', 195: '8.10.2', 196: '8.10.3', 197: '8.11', 198: '8.11.1', 199: '8.11.1.4', 200: '8.11.2', 201: '8.11.2.4', 202: '8.11.3', 203: '8.9', 204: '9', 205: '9.0', 206: '9.0.2', 207: '9.0.2.5', 208: '9.0.3', 209: '9.0.3.5', 210: '9.0.4', 211: '9.1', 212: '9.1.3', 213: '9.1.4', 214: '9.10', 215: '9.10.0.3', 216: '9.10.0.3.5', 217: '9.11', 218: '9.11.1', 219: '9.11.2.4', 220: '9.11.2.5', 221: '9.11.3', 222: '9.11.4', 223: '9.2', 224: 'A1', 225: 'A2', 226: 'A3', 227: 'A4', 228: 'A5', 229: 'A6', 230: 'B-1', 231: 'B-2', 232: 'B-3', 233: 'B-4', 234: 'B-5', 235: 'B-6', 236: 'B1', 237: 'B2', 238: 'B3', 239: 'B4', 240: 'B5', 241: 'B6', 242: 'C#2', 243: 'C#3', 244: 'C#4', 245: 'C#5', 246: 'C#6', 247: 'C#7', 248: 'C1', 249: 'C2', 250: 'C3', 251: 'C4', 252: 'C5', 253: 'C6', 254: 'C7', 255: 'D2', 256: 'D3', 257: 'D4', 258: 'D5', 259: 'D6', 260: 'D7', 261: 'E-1', 262: 'E-2', 263: 'E-3', 264: 'E-4', 265: 'E-5', 266: 'E-6', 267: 'E-7', 268: 'E1', 269: 'E2', 270: 'E3', 271: 'E4', 272: 'E5', 273: 'E6', 274: 'E7', 275: 'F#1', 276: 'F#2', 277: 'F#3', 278: 'F#4', 279: 'F#5', 280: 'F#6', 281: 'F1', 282: 'F2', 283: 'F3', 284: 'F4', 285: 'F5', 286: 'F6', 287: 'F7', 288: 'G#1', 289: 'G#2', 290: 'G#3', 291: 'G#4', 292: 'G#5', 293: 'G#6', 294: 'G1', 295: 'G2', 296: 'G3', 297: 'G4', 298: 'G5', 299: 'G6'}\n"
          ]
        }
      ],
      "source": [
        "print(mapping)\n",
        "print(reverse_mapping)"
      ]
    },
    {
      "cell_type": "code",
      "execution_count": null,
      "metadata": {
        "colab": {
          "base_uri": "https://localhost:8080/"
        },
        "id": "_b2EtzXgCGUS",
        "outputId": "c947eb63-dbc5-471a-e2e6-eccd0f1d43c0"
      },
      "outputs": [
        {
          "output_type": "stream",
          "name": "stdout",
          "text": [
            "Total number of sequences of consecutive 40 elements in the Corpus: 105423\n"
          ]
        }
      ],
      "source": [
        "#Splitting the Corpus in equal length of strings and output target\n",
        "length = 40\n",
        "features = [] #integer map of each element\n",
        "targets = [] #reverse integer map of each integer\n",
        "for i in range(0, L_corpus - length, 1):\n",
        "    feature = corpus[i:i + length]#batch of 40 elements, a b\n",
        "    target = corpus[i + length]#note/chord after above 40 elements, c\n",
        "    features.append([mapping[j] for j in feature])#appending integer mapped to each element\n",
        "    targets.append(mapping[target])\n",
        "    \n",
        "    \n",
        "L_datapoints = len(targets)\n",
        "print(\"Total number of sequences of consecutive 40 elements in the Corpus:\", L_datapoints)"
      ]
    },
    {
      "cell_type": "code",
      "execution_count": null,
      "metadata": {
        "id": "JIrFDmAzCLI1"
      },
      "outputs": [],
      "source": [
        "# reshape X,y and normalize\n",
        "X = (np.reshape(features, (L_datapoints, length, 1)))/ float(L_symb)\n",
        "# one hot encode the output variable\n",
        "y = tensorflow.keras.utils.to_categorical(targets)"
      ]
    },
    {
      "cell_type": "code",
      "execution_count": null,
      "metadata": {
        "id": "qxB0Yn9MCOV5"
      },
      "outputs": [],
      "source": [
        "X_train, X_seed, y_train, y_seed = train_test_split(X, y, test_size=0.2, random_state=42)"
      ]
    },
    {
      "cell_type": "code",
      "execution_count": null,
      "metadata": {
        "id": "g6eyJ7VWCRJ0"
      },
      "outputs": [],
      "source": [
        "#Initialising the Model\n",
        "import tensorflow as tf\n",
        "\n",
        "model = Sequential()\n",
        "#Adding layers\n",
        "model.add(LSTM(512, input_shape=(X.shape[1], X.shape[2]), return_sequences=True))\n",
        "model.add(Dropout(0.1))\n",
        "model.add(LSTM(256))\n",
        "model.add(Dense(256))\n",
        "model.add(Dropout(0.1))\n",
        "model.add(Dense(y.shape[1], activation='softmax'))\n",
        "#Compiling the model for training  \n",
        "opt = Adamax(learning_rate=0.01)\n",
        "model.compile(loss='categorical_crossentropy', optimizer=opt,metrics=['accuracy'])"
      ]
    },
    {
      "cell_type": "code",
      "execution_count": null,
      "metadata": {
        "colab": {
          "base_uri": "https://localhost:8080/"
        },
        "id": "iNxe280lCX_o",
        "outputId": "82808497-0a0a-4f2a-a9ff-c05c1818851f"
      },
      "outputs": [
        {
          "output_type": "stream",
          "name": "stdout",
          "text": [
            "Model: \"sequential_1\"\n",
            "_________________________________________________________________\n",
            " Layer (type)                Output Shape              Param #   \n",
            "=================================================================\n",
            " lstm (LSTM)                 (None, 40, 512)           1052672   \n",
            "                                                                 \n",
            " dropout (Dropout)           (None, 40, 512)           0         \n",
            "                                                                 \n",
            " lstm_1 (LSTM)               (None, 256)               787456    \n",
            "                                                                 \n",
            " dense (Dense)               (None, 256)               65792     \n",
            "                                                                 \n",
            " dropout_1 (Dropout)         (None, 256)               0         \n",
            "                                                                 \n",
            " dense_1 (Dense)             (None, 300)               77100     \n",
            "                                                                 \n",
            "=================================================================\n",
            "Total params: 1,983,020\n",
            "Trainable params: 1,983,020\n",
            "Non-trainable params: 0\n",
            "_________________________________________________________________\n"
          ]
        }
      ],
      "source": [
        "model.summary()"
      ]
    },
    {
      "cell_type": "code",
      "source": [
        "history = model.fit(X_train, y_train, batch_size=256, epochs=200)"
      ],
      "metadata": {
        "id": "8-7sOn6RJD_1"
      },
      "execution_count": null,
      "outputs": []
    },
    {
      "cell_type": "code",
      "source": [
        "#importing save trained model\n",
        "import joblib\n",
        "model = joblib.load('/content/drive/MyDrive/modelfinal.pkl')\n"
      ],
      "metadata": {
        "id": "akyWfcwWeSJZ"
      },
      "execution_count": null,
      "outputs": []
    },
    {
      "cell_type": "code",
      "execution_count": null,
      "metadata": {
        "id": "gRufWTbuufhO"
      },
      "outputs": [],
      "source": [
        "def Malody_Generator(Note_Count):\n",
        "    seed = X_seed[np.random.randint(0,len(X_seed)-1)]\n",
        "    Music = \"\"\n",
        "    Notes_Generated=[]\n",
        "    for i in range(Note_Count):\n",
        "        seed = seed.reshape(1,length,1)\n",
        "        prediction = model.predict(seed, verbose=0)[0]\n",
        "        prediction = np.log(prediction) / 1.0 #diversity\n",
        "        exp_preds = np.exp(prediction)\n",
        "        prediction = exp_preds / np.sum(exp_preds)\n",
        "        index = np.argmax(prediction)\n",
        "        index_N = index/ float(L_symb)   \n",
        "        Notes_Generated.append(index)\n",
        "        Music = [reverse_mapping[char] for char in Notes_Generated]\n",
        "        seed = np.insert(seed[0],len(seed[0]),index_N)\n",
        "        seed = seed[1:]\n",
        "    Melody = chords_n_notes(Music)\n",
        "    Melody_midi = stream.Stream(Melody)   \n",
        "    return Music,Melody_midi\n",
        "Music_notes, Melody = Malody_Generator(100)"
      ]
    },
    {
      "cell_type": "code",
      "execution_count": null,
      "metadata": {
        "colab": {
          "base_uri": "https://localhost:8080/",
          "height": 35
        },
        "id": "FALjYH9bvRBi",
        "outputId": "86e928f8-7921-4e78-94c8-c1f0ed1df46a"
      },
      "outputs": [
        {
          "output_type": "execute_result",
          "data": {
            "application/vnd.google.colaboratory.intrinsic+json": {
              "type": "string"
            },
            "text/plain": [
              "'Generated_melody.mid'"
            ]
          },
          "metadata": {},
          "execution_count": 14
        }
      ],
      "source": [
        "#To save the generated melody\n",
        "\n",
        "Melody.write('midi','Generated_melody.mid')\n"
      ]
    }
  ],
  "metadata": {
    "accelerator": "GPU",
    "colab": {
      "collapsed_sections": [],
      "name": "Music-generation-LSTM.ipynb",
      "provenance": [],
      "include_colab_link": true
    },
    "kernelspec": {
      "display_name": "Python 3",
      "name": "python3"
    },
    "language_info": {
      "name": "python"
    }
  },
  "nbformat": 4,
  "nbformat_minor": 0
}